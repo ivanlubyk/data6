{
 "cells": [
  {
   "cell_type": "code",
   "execution_count": 1,
   "id": "7e001f74-d108-41e2-afd5-99f934069beb",
   "metadata": {},
   "outputs": [],
   "source": [
    "import os\n",
    "import pandas as pd\n",
    "from sklearn.model_selection import train_test_split\n",
    "from sklearn.preprocessing import StandardScaler\n",
    "from sklearn.impute import SimpleImputer\n",
    "from sklearn.svm import SVC\n",
    "from sklearn.ensemble import RandomForestClassifier\n",
    "from sklearn.metrics import classification_report\n",
    "from sklearn.metrics import accuracy_score"
   ]
  },
  {
   "cell_type": "code",
   "execution_count": 2,
   "id": "1b95b1ad-7468-4d83-be74-b85769e1b181",
   "metadata": {},
   "outputs": [],
   "source": [
    "# Функція для завантаження та об'єднання даних з різних папок\n",
    "def load_data(data_directory):\n",
    "    all_data = pd.DataFrame()\n",
    "\n",
    "    for activity_folder in os.listdir(data_directory):\n",
    "        activity_path = os.path.join(data_directory, activity_folder)\n",
    "\n",
    "        for file_name in os.listdir(activity_path):\n",
    "            file_path = os.path.join(activity_path, file_name)\n",
    "\n",
    "            data = pd.read_csv(file_path)\n",
    "            data['activity'] = activity_folder\n",
    "            all_data = pd.concat([all_data, data], ignore_index=True)\n",
    "\n",
    "    return all_data"
   ]
  },
  {
   "cell_type": "code",
   "execution_count": 3,
   "id": "d06bd121-fa09-4e3b-8138-ea52a05e4ef8",
   "metadata": {},
   "outputs": [],
   "source": [
    "# Завантаження даних\n",
    "data_directory = r'D:\\GO IT HOMEWORK\\datasientc\\3\\data'\n",
    "all_data = load_data(data_directory)"
   ]
  },
  {
   "cell_type": "code",
   "execution_count": 4,
   "id": "dabe1e00-c085-4a20-8bbf-961933ea819a",
   "metadata": {},
   "outputs": [],
   "source": [
    "# Додавання часових ознак (time domain features)\n",
    "all_data['mean_x'] = all_data[['accelerometer_X']].mean(axis=1)\n",
    "all_data['mean_y'] = all_data[['accelerometer_Y']].mean(axis=1)\n",
    "all_data['mean_z'] = all_data[['accelerometer_Z']].mean(axis=1)\n",
    "all_data['std_x'] = all_data[['accelerometer_X']].std(axis=1)\n",
    "all_data['std_y'] = all_data[['accelerometer_Y']].std(axis=1)\n",
    "all_data['std_z'] = all_data[['accelerometer_Z']].std(axis=1)"
   ]
  },
  {
   "cell_type": "code",
   "execution_count": 12,
   "id": "e72becec-7bd2-433f-8a4a-44039f86cc25",
   "metadata": {},
   "outputs": [],
   "source": [
    "# Визначення X та y\n",
    "X = all_data[['mean_x', 'mean_y', 'mean_z', 'std_x', 'std_y', 'std_z']]\n",
    "y = all_data['activity']"
   ]
  },
  {
   "cell_type": "code",
   "execution_count": 13,
   "id": "33cdceb3-0aff-4b62-b1f0-8808330b7f76",
   "metadata": {},
   "outputs": [],
   "source": [
    "# Створення SimpleImputer\n",
    "imputer = SimpleImputer(strategy='constant', fill_value=0)"
   ]
  },
  {
   "cell_type": "code",
   "execution_count": 14,
   "id": "8d414d1c-6e2a-4d6d-89fd-d46ec95b2111",
   "metadata": {},
   "outputs": [],
   "source": [
    "# Заміна відсутніх значень в X\n",
    "X_imputed = pd.DataFrame(imputer.fit_transform(X), columns=X.columns)"
   ]
  },
  {
   "cell_type": "code",
   "execution_count": 15,
   "id": "ac681417-296a-4b9f-9d76-fcd2e9a51b66",
   "metadata": {},
   "outputs": [],
   "source": [
    "# Розділення даних на тренувальний та тестовий набори\n",
    "X_train, X_test, y_train, y_test = train_test_split(X_imputed, y, test_size=0.2, random_state=42)\n"
   ]
  },
  {
   "cell_type": "code",
   "execution_count": 16,
   "id": "065a69c4-3b30-4799-960a-9bc8c8d913fd",
   "metadata": {},
   "outputs": [
    {
     "name": "stdout",
     "output_type": "stream",
     "text": [
      "(155088, 6) (155088,)\n",
      "(38772, 6) (38772,)\n"
     ]
    }
   ],
   "source": [
    "# Перевірка розмірності після розділення\n",
    "print(X_train.shape, y_train.shape)\n",
    "print(X_test.shape, y_test.shape)"
   ]
  },
  {
   "cell_type": "code",
   "execution_count": 17,
   "id": "363c6b3c-a7da-4941-97a3-568feb9c6fa4",
   "metadata": {},
   "outputs": [
    {
     "data": {
      "text/html": [
       "<style>#sk-container-id-1 {color: black;}#sk-container-id-1 pre{padding: 0;}#sk-container-id-1 div.sk-toggleable {background-color: white;}#sk-container-id-1 label.sk-toggleable__label {cursor: pointer;display: block;width: 100%;margin-bottom: 0;padding: 0.3em;box-sizing: border-box;text-align: center;}#sk-container-id-1 label.sk-toggleable__label-arrow:before {content: \"▸\";float: left;margin-right: 0.25em;color: #696969;}#sk-container-id-1 label.sk-toggleable__label-arrow:hover:before {color: black;}#sk-container-id-1 div.sk-estimator:hover label.sk-toggleable__label-arrow:before {color: black;}#sk-container-id-1 div.sk-toggleable__content {max-height: 0;max-width: 0;overflow: hidden;text-align: left;background-color: #f0f8ff;}#sk-container-id-1 div.sk-toggleable__content pre {margin: 0.2em;color: black;border-radius: 0.25em;background-color: #f0f8ff;}#sk-container-id-1 input.sk-toggleable__control:checked~div.sk-toggleable__content {max-height: 200px;max-width: 100%;overflow: auto;}#sk-container-id-1 input.sk-toggleable__control:checked~label.sk-toggleable__label-arrow:before {content: \"▾\";}#sk-container-id-1 div.sk-estimator input.sk-toggleable__control:checked~label.sk-toggleable__label {background-color: #d4ebff;}#sk-container-id-1 div.sk-label input.sk-toggleable__control:checked~label.sk-toggleable__label {background-color: #d4ebff;}#sk-container-id-1 input.sk-hidden--visually {border: 0;clip: rect(1px 1px 1px 1px);clip: rect(1px, 1px, 1px, 1px);height: 1px;margin: -1px;overflow: hidden;padding: 0;position: absolute;width: 1px;}#sk-container-id-1 div.sk-estimator {font-family: monospace;background-color: #f0f8ff;border: 1px dotted black;border-radius: 0.25em;box-sizing: border-box;margin-bottom: 0.5em;}#sk-container-id-1 div.sk-estimator:hover {background-color: #d4ebff;}#sk-container-id-1 div.sk-parallel-item::after {content: \"\";width: 100%;border-bottom: 1px solid gray;flex-grow: 1;}#sk-container-id-1 div.sk-label:hover label.sk-toggleable__label {background-color: #d4ebff;}#sk-container-id-1 div.sk-serial::before {content: \"\";position: absolute;border-left: 1px solid gray;box-sizing: border-box;top: 0;bottom: 0;left: 50%;z-index: 0;}#sk-container-id-1 div.sk-serial {display: flex;flex-direction: column;align-items: center;background-color: white;padding-right: 0.2em;padding-left: 0.2em;position: relative;}#sk-container-id-1 div.sk-item {position: relative;z-index: 1;}#sk-container-id-1 div.sk-parallel {display: flex;align-items: stretch;justify-content: center;background-color: white;position: relative;}#sk-container-id-1 div.sk-item::before, #sk-container-id-1 div.sk-parallel-item::before {content: \"\";position: absolute;border-left: 1px solid gray;box-sizing: border-box;top: 0;bottom: 0;left: 50%;z-index: -1;}#sk-container-id-1 div.sk-parallel-item {display: flex;flex-direction: column;z-index: 1;position: relative;background-color: white;}#sk-container-id-1 div.sk-parallel-item:first-child::after {align-self: flex-end;width: 50%;}#sk-container-id-1 div.sk-parallel-item:last-child::after {align-self: flex-start;width: 50%;}#sk-container-id-1 div.sk-parallel-item:only-child::after {width: 0;}#sk-container-id-1 div.sk-dashed-wrapped {border: 1px dashed gray;margin: 0 0.4em 0.5em 0.4em;box-sizing: border-box;padding-bottom: 0.4em;background-color: white;}#sk-container-id-1 div.sk-label label {font-family: monospace;font-weight: bold;display: inline-block;line-height: 1.2em;}#sk-container-id-1 div.sk-label-container {text-align: center;}#sk-container-id-1 div.sk-container {/* jupyter's `normalize.less` sets `[hidden] { display: none; }` but bootstrap.min.css set `[hidden] { display: none !important; }` so we also need the `!important` here to be able to override the default hidden behavior on the sphinx rendered scikit-learn.org. See: https://github.com/scikit-learn/scikit-learn/issues/21755 */display: inline-block !important;position: relative;}#sk-container-id-1 div.sk-text-repr-fallback {display: none;}</style><div id=\"sk-container-id-1\" class=\"sk-top-container\"><div class=\"sk-text-repr-fallback\"><pre>RandomForestClassifier(random_state=42)</pre><b>In a Jupyter environment, please rerun this cell to show the HTML representation or trust the notebook. <br />On GitHub, the HTML representation is unable to render, please try loading this page with nbviewer.org.</b></div><div class=\"sk-container\" hidden><div class=\"sk-item\"><div class=\"sk-estimator sk-toggleable\"><input class=\"sk-toggleable__control sk-hidden--visually\" id=\"sk-estimator-id-1\" type=\"checkbox\" checked><label for=\"sk-estimator-id-1\" class=\"sk-toggleable__label sk-toggleable__label-arrow\">RandomForestClassifier</label><div class=\"sk-toggleable__content\"><pre>RandomForestClassifier(random_state=42)</pre></div></div></div></div></div>"
      ],
      "text/plain": [
       "RandomForestClassifier(random_state=42)"
      ]
     },
     "execution_count": 17,
     "metadata": {},
     "output_type": "execute_result"
    }
   ],
   "source": [
    "# Навчання моделі Random Forest\n",
    "rf_model = RandomForestClassifier(random_state=42)\n",
    "rf_model.fit(X_train, y_train)"
   ]
  },
  {
   "cell_type": "code",
   "execution_count": 18,
   "id": "ab36661e-02b1-4b92-a56a-73fe0085263e",
   "metadata": {},
   "outputs": [],
   "source": [
    "# Перевірка наявності відсутніх значень у X_test\n",
    "missing_values_test = X_test.isnull().sum()"
   ]
  },
  {
   "cell_type": "code",
   "execution_count": 19,
   "id": "0a89cfed-88b3-4ca5-923e-92e4ba3e8e49",
   "metadata": {},
   "outputs": [],
   "source": [
    "# Заміна відсутніх значень в X_test за допомогою того ж самого imputer\n",
    "X_test_imputed = pd.DataFrame(imputer.transform(X_test), columns=X_test.columns)\n"
   ]
  },
  {
   "cell_type": "code",
   "execution_count": 20,
   "id": "1ef58905-0a7d-440c-9094-42bdae50d0cf",
   "metadata": {},
   "outputs": [],
   "source": [
    "# Передбачення та оцінка результатів для Random Forest\n",
    "rf_predictions = rf_model.predict(X_test_imputed)\n",
    "rf_accuracy = accuracy_score(y_test, rf_predictions)\n",
    "rf_classification_report = classification_report(y_test, rf_predictions)\n"
   ]
  },
  {
   "cell_type": "code",
   "execution_count": 22,
   "id": "204c8c3d-e005-4a33-86de-b558de48c5bf",
   "metadata": {},
   "outputs": [
    {
     "name": "stdout",
     "output_type": "stream",
     "text": [
      "Missing values in X_test:\n",
      " mean_x    0\n",
      "mean_y    0\n",
      "mean_z    0\n",
      "std_x     0\n",
      "std_y     0\n",
      "std_z     0\n",
      "dtype: int64\n",
      "\n",
      "Random Forest Accuracy: 0.9995873310636542\n",
      "\n",
      "Random Forest Classification Report:\n",
      "               precision    recall  f1-score   support\n",
      "\n",
      "        idle       1.00      1.00      1.00      6203\n",
      "     running       1.00      1.00      1.00     20485\n",
      "      stairs       1.00      0.99      0.99      1022\n",
      "     walking       1.00      1.00      1.00     11062\n",
      "\n",
      "    accuracy                           1.00     38772\n",
      "   macro avg       1.00      1.00      1.00     38772\n",
      "weighted avg       1.00      1.00      1.00     38772\n",
      "\n"
     ]
    }
   ],
   "source": [
    "# Виведення результатів\n",
    "print(\"Missing values in X_test:\\n\", missing_values_test)\n",
    "print(\"\\nRandom Forest Accuracy:\", rf_accuracy)\n",
    "print(\"\\nRandom Forest Classification Report:\\n\", rf_classification_report)"
   ]
  },
  {
   "cell_type": "code",
   "execution_count": null,
   "id": "f847471b-811c-4584-bc58-5698d6547f5f",
   "metadata": {},
   "outputs": [],
   "source": [
    "# Навчання моделі SVM\n",
    "svm_model = SVC(random_state=42)\n",
    "svm_model.fit(X_train, y_train)\n"
   ]
  },
  {
   "cell_type": "code",
   "execution_count": null,
   "id": "1f723d33-9671-454f-93a2-a8b4051e4fd1",
   "metadata": {},
   "outputs": [],
   "source": [
    "# Передбачення та оцінка результатів для SVM\n",
    "svm_predictions = svm_model.predict(X_test)\n",
    "svm_accuracy = accuracy_score(y_test, svm_predictions)\n",
    "svm_classification_report = classification_report(y_test, svm_predictions)"
   ]
  },
  {
   "cell_type": "code",
   "execution_count": null,
   "id": "cce1430b-10ea-4b4e-b417-95ab8d8abc56",
   "metadata": {},
   "outputs": [],
   "source": [
    "# Виведення результатів\n",
    "print(\"\\nSVM Results:\")\n",
    "print(f\"Accuracy: {svm_accuracy}\")\n",
    "print(\"Classification Report:\")\n",
    "print(svm_classification_report)"
   ]
  },
  {
   "cell_type": "code",
   "execution_count": null,
   "id": "92c64aa3-b5a4-46b1-be96-3edf9bffcc50",
   "metadata": {},
   "outputs": [],
   "source": []
  }
 ],
 "metadata": {
  "kernelspec": {
   "display_name": "Python 3 (ipykernel)",
   "language": "python",
   "name": "python3"
  },
  "language_info": {
   "codemirror_mode": {
    "name": "ipython",
    "version": 3
   },
   "file_extension": ".py",
   "mimetype": "text/x-python",
   "name": "python",
   "nbconvert_exporter": "python",
   "pygments_lexer": "ipython3",
   "version": "3.11.3"
  }
 },
 "nbformat": 4,
 "nbformat_minor": 5
}
